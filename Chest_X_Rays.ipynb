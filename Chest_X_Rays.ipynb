{
  "nbformat": 4,
  "nbformat_minor": 0,
  "metadata": {
    "colab": {
      "name": "Chest-X-Rays.ipynb",
      "provenance": [],
      "collapsed_sections": [],
      "authorship_tag": "ABX9TyN4EVilzCktLdFSG/+puXoe",
      "include_colab_link": true
    },
    "kernelspec": {
      "name": "python3",
      "display_name": "Python 3"
    },
    "language_info": {
      "name": "python"
    },
    "accelerator": "GPU"
  },
  "cells": [
    {
      "cell_type": "markdown",
      "metadata": {
        "id": "view-in-github",
        "colab_type": "text"
      },
      "source": [
        "<a href=\"https://colab.research.google.com/github/VijaySouri4/Cats-VS-Dogs-classifier-/blob/main/Chest_X_Rays.ipynb\" target=\"_parent\"><img src=\"https://colab.research.google.com/assets/colab-badge.svg\" alt=\"Open In Colab\"/></a>"
      ]
    },
    {
      "cell_type": "code",
      "metadata": {
        "colab": {
          "base_uri": "https://localhost:8080/"
        },
        "id": "K8nQuSmqvabe",
        "outputId": "02ad1e68-814f-4138-cf24-ac13edace5b5"
      },
      "source": [
        "from google.colab import drive\n",
        "drive.mount('/content/here')"
      ],
      "execution_count": 2,
      "outputs": [
        {
          "output_type": "stream",
          "text": [
            "Mounted at /content/here\n"
          ],
          "name": "stdout"
        }
      ]
    },
    {
      "cell_type": "code",
      "metadata": {
        "id": "8hFRy5WuwK7O"
      },
      "source": [
        "import numpy as np\n",
        "normal_np = np.load('/content/here/MyDrive/My_research/Normal_128X128.npy')\n",
        "pneumnia_np = np.load('/content/here/MyDrive/My_research/Viral_Pneumonia_128X128.npy')\n",
        "\n",
        "\n"
      ],
      "execution_count": 5,
      "outputs": []
    },
    {
      "cell_type": "code",
      "metadata": {
        "colab": {
          "base_uri": "https://localhost:8080/"
        },
        "id": "v8T-o-qHxEo3",
        "outputId": "3ec682a0-0164-4ac7-9aef-a1a3d1ed50c8"
      },
      "source": [
        "print(normal_np.shape)\n",
        "print(pneumnia_np.shape)"
      ],
      "execution_count": 8,
      "outputs": [
        {
          "output_type": "stream",
          "text": [
            "(1340, 1, 128, 128)\n",
            "(1340, 1, 128, 128)\n"
          ],
          "name": "stdout"
        }
      ]
    },
    {
      "cell_type": "code",
      "metadata": {
        "id": "2pNrqcVxxn8F"
      },
      "source": [
        "normal_np = np.reshape(normal_np,(1340,128,128,1))\n",
        "pneumnia_np = np.reshape(pneumnia_np,(1340,128,128,1))"
      ],
      "execution_count": 10,
      "outputs": []
    },
    {
      "cell_type": "code",
      "metadata": {
        "colab": {
          "base_uri": "https://localhost:8080/"
        },
        "id": "5N3mPpkIzOil",
        "outputId": "19717d51-b989-4b79-9026-9155accf6134"
      },
      "source": [
        "from PIL import Image\n",
        "\n",
        "pil_img = Image.fromarray(normal_np[0,0:127,0:127,0])\n",
        "\n",
        "print(pil_img)\n",
        "\n",
        "#pil_img.save('/content/here/MyDrive/My_research/test.jpg')"
      ],
      "execution_count": 21,
      "outputs": [
        {
          "output_type": "stream",
          "text": [
            "<PIL.Image.Image image mode=L size=127x127 at 0x7F0CD56F5E10>\n"
          ],
          "name": "stdout"
        }
      ]
    },
    {
      "cell_type": "code",
      "metadata": {
        "id": "L7SAhcGqz4Jv"
      },
      "source": [
        "img_height = 128\n",
        "img_width = 128\n",
        "\n",
        "batch_size = 10"
      ],
      "execution_count": 22,
      "outputs": []
    },
    {
      "cell_type": "code",
      "metadata": {
        "id": "wIKF6aVO1rPX"
      },
      "source": [
        "from tensorflow.keras.applications import NASNetLarge\n",
        "from tensorflow.keras.models import Sequential\n",
        "from tensorflow.keras.layers import Dense, Flatten, GlobalAveragePooling2D\n",
        "\n",
        "num_classes = 2\n",
        "#resnet_weights_path = '../input/resnet50/resnet50_weights_tf_dim_ordering_tf_kernels_notop.h5'\n",
        "\n",
        "my_new_model = Sequential()\n",
        "my_new_model.add(NASNetLarge(include_top=False, pooling='avg', weights='imagenet'))\n",
        "my_new_model.add(Dense(num_classes, activation='softmax'))\n",
        "\n",
        "# Indicate whether the first layer should be trained/changed or not.\n",
        "my_new_model.layers[0].trainable = False\n",
        "\n",
        "# Check your answer\n",
        "step_1.check()"
      ],
      "execution_count": null,
      "outputs": []
    },
    {
      "cell_type": "code",
      "metadata": {
        "id": "UaXh9BIv37dg"
      },
      "source": [
        "my_new_model.compile(optimizer='adam', \n",
        "                     loss='categorical_crossentropy', \n",
        "                     metrics=['accuracy'])"
      ],
      "execution_count": null,
      "outputs": []
    },
    {
      "cell_type": "code",
      "metadata": {
        "id": "wj0MuLii38B3"
      },
      "source": [
        "from tensorflow.keras.applications.resnet50 import preprocess_input\n",
        "from tensorflow.keras.preprocessing.image import ImageDataGenerator\n",
        "\n",
        "image_size = 224\n",
        "data_generator = ImageDataGenerator(preprocess_input)\n",
        "\n",
        "train_generator = data_generator.flow_from_directory(\n",
        "                                        directory='../input/dogs-gone-sideways/images/train',\n",
        "                                        target_size=(image_size, image_size),\n",
        "                                        batch_size=10,\n",
        "                                        class_mode='categorical')\n",
        "\n",
        "validation_generator = data_generator.flow_from_directory(\n",
        "                                        directory='../input/dogs-gone-sideways/images/val',\n",
        "                                        target_size=(image_size, image_size),\n",
        "                                        class_mode='categorical')\n",
        "\n",
        "# fit_stats below saves some statistics describing how model fitting went\n",
        "# the key role of the following line is how it changes my_new_model by fitting to data\n",
        "fit_stats = my_new_model.fit_generator(train_generator,\n",
        "                                       steps_per_epoch=22,\n",
        "                                       validation_data=validation_generator,\n",
        "                                       validation_steps=1)\n",
        "\n",
        "# Check your answer\n",
        "step_4.check()"
      ],
      "execution_count": null,
      "outputs": []
    }
  ]
}